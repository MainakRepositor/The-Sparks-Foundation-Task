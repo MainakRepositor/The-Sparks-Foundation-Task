{
  "nbformat": 4,
  "nbformat_minor": 0,
  "metadata": {
    "colab": {
      "name": "TSF Task 1 ",
      "provenance": [],
      "authorship_tag": "ABX9TyPAmPTZ77meQPJ3xcSOKszB",
      "include_colab_link": true
    },
    "kernelspec": {
      "name": "python3",
      "display_name": "Python 3"
    }
  },
  "cells": [
    {
      "cell_type": "markdown",
      "metadata": {
        "id": "view-in-github",
        "colab_type": "text"
      },
      "source": [
        "<a href=\"https://colab.research.google.com/github/MainakRepositor/The-Sparks-Foundation-Task/blob/master/TSF_Task_1.ipynb\" target=\"_parent\"><img src=\"https://colab.research.google.com/assets/colab-badge.svg\" alt=\"Open In Colab\"/></a>"
      ]
    },
    {
      "cell_type": "markdown",
      "metadata": {
        "id": "akvMGtuuNZ1J"
      },
      "source": [
        "<center><img src=\"https://ci6.googleusercontent.com/proxy/KQIKb57j6tZR4Tue4PXptzlg9B2VvTX6wWp7qQbVV628h0yboRXLQYm0WrPNNUORJQxfa60FuCm6bbZB4q8cQkgW=s0-d-e1-ft#https://links.aine.ai/assets/TSF_logo_small.png \"></center>\r\n",
        "\r\n",
        "<center>\r\n",
        "\r\n",
        "# ***GRADUATE ROTATIONAL INTERNSHIP PROGRAM (GRIP)***\r\n",
        "### **ORGANIZER** : The Sparks Foundation\r\n",
        "### **DOMAIN**    : Data Science and Business Analytics \r\n",
        "\r\n",
        "<hr>\r\n",
        "\r\n",
        "PROJECT DETAILS : ***TASK 1***\r\n",
        "<hr>\r\n",
        "\r\n",
        "\r\n",
        "**AUTHOR** : MAINAK CHAUDHURI\r\n",
        "\r\n",
        "**OBJECTIVE** : To predict the exam scores of a student who  studied for a given number of hours.\r\n",
        "\r\n",
        "**METHOD USED** : Supervised Machine Learning (Linear Regression)\r\n",
        "</center>\r\n",
        "<hr>\r\n"
      ]
    },
    {
      "cell_type": "markdown",
      "metadata": {
        "id": "ScNYdqRkRw-U"
      },
      "source": [
        "### 1. Importing necessary libraries"
      ]
    },
    {
      "cell_type": "code",
      "metadata": {
        "colab": {
          "base_uri": "https://localhost:8080/"
        },
        "id": "AyJBgAQ3MhBn",
        "outputId": "67291058-57db-4bba-9fc9-44d88b3abfbd"
      },
      "source": [
        "import numpy as np\r\n",
        "import pandas as pd\r\n",
        "import matplotlib.pyplot as plt\r\n",
        "%matplotlib inline\r\n",
        "import seaborn as sns\r\n",
        "from sklearn.model_selection import train_test_split\r\n",
        "from sklearn.linear_model import LinearRegression\r\n",
        "from sklearn.metrics import mean_absolute_error\r\n",
        "from sklearn.metrics import mean_squared_error\r\n",
        "print(\"All necessary packages have been included successfully!\")"
      ],
      "execution_count": 93,
      "outputs": [
        {
          "output_type": "stream",
          "text": [
            "All necessary packages have been included successfully!\n"
          ],
          "name": "stdout"
        }
      ]
    },
    {
      "cell_type": "markdown",
      "metadata": {
        "id": "K_wulFACTcQn"
      },
      "source": [
        "### 2. Importing the dataset"
      ]
    },
    {
      "cell_type": "code",
      "metadata": {
        "colab": {
          "base_uri": "https://localhost:8080/",
          "height": 230
        },
        "id": "-A-Vg4kcSVSA",
        "outputId": "a5f935dd-2b1b-44aa-b702-44b75546319d"
      },
      "source": [
        "url = 'https://raw.githubusercontent.com/AdiPersonalWorks/Random/master/student_scores%20-%20student_scores.csv'\r\n",
        "df = pd.read_csv(url,error_bad_lines=False)\r\n",
        "\r\n",
        "print(\"Displaying the top 5 rows of the dataset :\\n\")\r\n",
        "df.head()"
      ],
      "execution_count": 94,
      "outputs": [
        {
          "output_type": "stream",
          "text": [
            "Displaying the top 5 rows of the dataset :\n",
            "\n"
          ],
          "name": "stdout"
        },
        {
          "output_type": "execute_result",
          "data": {
            "text/html": [
              "<div>\n",
              "<style scoped>\n",
              "    .dataframe tbody tr th:only-of-type {\n",
              "        vertical-align: middle;\n",
              "    }\n",
              "\n",
              "    .dataframe tbody tr th {\n",
              "        vertical-align: top;\n",
              "    }\n",
              "\n",
              "    .dataframe thead th {\n",
              "        text-align: right;\n",
              "    }\n",
              "</style>\n",
              "<table border=\"1\" class=\"dataframe\">\n",
              "  <thead>\n",
              "    <tr style=\"text-align: right;\">\n",
              "      <th></th>\n",
              "      <th>Hours</th>\n",
              "      <th>Scores</th>\n",
              "    </tr>\n",
              "  </thead>\n",
              "  <tbody>\n",
              "    <tr>\n",
              "      <th>0</th>\n",
              "      <td>2.5</td>\n",
              "      <td>21</td>\n",
              "    </tr>\n",
              "    <tr>\n",
              "      <th>1</th>\n",
              "      <td>5.1</td>\n",
              "      <td>47</td>\n",
              "    </tr>\n",
              "    <tr>\n",
              "      <th>2</th>\n",
              "      <td>3.2</td>\n",
              "      <td>27</td>\n",
              "    </tr>\n",
              "    <tr>\n",
              "      <th>3</th>\n",
              "      <td>8.5</td>\n",
              "      <td>75</td>\n",
              "    </tr>\n",
              "    <tr>\n",
              "      <th>4</th>\n",
              "      <td>3.5</td>\n",
              "      <td>30</td>\n",
              "    </tr>\n",
              "  </tbody>\n",
              "</table>\n",
              "</div>"
            ],
            "text/plain": [
              "   Hours  Scores\n",
              "0    2.5      21\n",
              "1    5.1      47\n",
              "2    3.2      27\n",
              "3    8.5      75\n",
              "4    3.5      30"
            ]
          },
          "metadata": {
            "tags": []
          },
          "execution_count": 94
        }
      ]
    },
    {
      "cell_type": "markdown",
      "metadata": {
        "id": "UWMrUchxTyNA"
      },
      "source": [
        "### 3. Finding data insights"
      ]
    },
    {
      "cell_type": "code",
      "metadata": {
        "colab": {
          "base_uri": "https://localhost:8080/",
          "height": 345
        },
        "id": "XQhW8VCdTLqd",
        "outputId": "03c70b8a-debd-42a8-9a19-8b282bff30d3"
      },
      "source": [
        "## Shuffling data and generate random sample of 10 values (to remove bias)\r\n",
        "\r\n",
        "df.sample(10)"
      ],
      "execution_count": 133,
      "outputs": [
        {
          "output_type": "execute_result",
          "data": {
            "text/html": [
              "<div>\n",
              "<style scoped>\n",
              "    .dataframe tbody tr th:only-of-type {\n",
              "        vertical-align: middle;\n",
              "    }\n",
              "\n",
              "    .dataframe tbody tr th {\n",
              "        vertical-align: top;\n",
              "    }\n",
              "\n",
              "    .dataframe thead th {\n",
              "        text-align: right;\n",
              "    }\n",
              "</style>\n",
              "<table border=\"1\" class=\"dataframe\">\n",
              "  <thead>\n",
              "    <tr style=\"text-align: right;\">\n",
              "      <th></th>\n",
              "      <th>Hours</th>\n",
              "      <th>Scores</th>\n",
              "    </tr>\n",
              "  </thead>\n",
              "  <tbody>\n",
              "    <tr>\n",
              "      <th>16</th>\n",
              "      <td>2.5</td>\n",
              "      <td>30</td>\n",
              "    </tr>\n",
              "    <tr>\n",
              "      <th>13</th>\n",
              "      <td>3.3</td>\n",
              "      <td>42</td>\n",
              "    </tr>\n",
              "    <tr>\n",
              "      <th>14</th>\n",
              "      <td>1.1</td>\n",
              "      <td>17</td>\n",
              "    </tr>\n",
              "    <tr>\n",
              "      <th>22</th>\n",
              "      <td>3.8</td>\n",
              "      <td>35</td>\n",
              "    </tr>\n",
              "    <tr>\n",
              "      <th>0</th>\n",
              "      <td>2.5</td>\n",
              "      <td>21</td>\n",
              "    </tr>\n",
              "    <tr>\n",
              "      <th>4</th>\n",
              "      <td>3.5</td>\n",
              "      <td>30</td>\n",
              "    </tr>\n",
              "    <tr>\n",
              "      <th>7</th>\n",
              "      <td>5.5</td>\n",
              "      <td>60</td>\n",
              "    </tr>\n",
              "    <tr>\n",
              "      <th>6</th>\n",
              "      <td>9.2</td>\n",
              "      <td>88</td>\n",
              "    </tr>\n",
              "    <tr>\n",
              "      <th>24</th>\n",
              "      <td>7.8</td>\n",
              "      <td>86</td>\n",
              "    </tr>\n",
              "    <tr>\n",
              "      <th>20</th>\n",
              "      <td>2.7</td>\n",
              "      <td>30</td>\n",
              "    </tr>\n",
              "  </tbody>\n",
              "</table>\n",
              "</div>"
            ],
            "text/plain": [
              "    Hours  Scores\n",
              "16    2.5      30\n",
              "13    3.3      42\n",
              "14    1.1      17\n",
              "22    3.8      35\n",
              "0     2.5      21\n",
              "4     3.5      30\n",
              "7     5.5      60\n",
              "6     9.2      88\n",
              "24    7.8      86\n",
              "20    2.7      30"
            ]
          },
          "metadata": {
            "tags": []
          },
          "execution_count": 133
        }
      ]
    },
    {
      "cell_type": "code",
      "metadata": {
        "colab": {
          "base_uri": "https://localhost:8080/"
        },
        "id": "CirlTosnTN-o",
        "outputId": "78c3b95b-c83a-4ebc-b7ee-b0de9794e35b"
      },
      "source": [
        "## Finding the dimensions of the dataset\r\n",
        "r,c = df.shape\r\n",
        "print(\"Number of parameters in the data set   : \",c)\r\n",
        "print(\"Number of data entries in the data set : \",r)"
      ],
      "execution_count": 96,
      "outputs": [
        {
          "output_type": "stream",
          "text": [
            "Number of parameters in the data set   :  2\n",
            "Number of data entries in the data set :  25\n"
          ],
          "name": "stdout"
        }
      ]
    },
    {
      "cell_type": "code",
      "metadata": {
        "colab": {
          "base_uri": "https://localhost:8080/"
        },
        "id": "mMvCWh2VT6Rc",
        "outputId": "550c3931-a48b-4278-9622-044ebe130f57"
      },
      "source": [
        "## Finding the type of data each column contains\r\n",
        "df.info()"
      ],
      "execution_count": 97,
      "outputs": [
        {
          "output_type": "stream",
          "text": [
            "<class 'pandas.core.frame.DataFrame'>\n",
            "RangeIndex: 25 entries, 0 to 24\n",
            "Data columns (total 2 columns):\n",
            " #   Column  Non-Null Count  Dtype  \n",
            "---  ------  --------------  -----  \n",
            " 0   Hours   25 non-null     float64\n",
            " 1   Scores  25 non-null     int64  \n",
            "dtypes: float64(1), int64(1)\n",
            "memory usage: 528.0 bytes\n"
          ],
          "name": "stdout"
        }
      ]
    },
    {
      "cell_type": "markdown",
      "metadata": {
        "id": "aRp44qNvUwTp"
      },
      "source": [
        "### 4. Checking and removal of missing data items"
      ]
    },
    {
      "cell_type": "code",
      "metadata": {
        "colab": {
          "base_uri": "https://localhost:8080/"
        },
        "id": "dIIsM8N9UesM",
        "outputId": "c1d6c9c8-7daf-48a8-935c-31810b767661"
      },
      "source": [
        "print(\"Are there any missing values in the dataset ?\",df.isnull().values.any())"
      ],
      "execution_count": 98,
      "outputs": [
        {
          "output_type": "stream",
          "text": [
            "Are there any missing values in the dataset ? False\n"
          ],
          "name": "stdout"
        }
      ]
    },
    {
      "cell_type": "markdown",
      "metadata": {
        "id": "EKQ9YhGkU_40"
      },
      "source": [
        "### 5. Statistical Treatment of Data"
      ]
    },
    {
      "cell_type": "code",
      "metadata": {
        "colab": {
          "base_uri": "https://localhost:8080/",
          "height": 107
        },
        "id": "vQE_1sEsU47A",
        "outputId": "caf37971-e103-4a82-d77f-d843e00427b9"
      },
      "source": [
        "## Dataset summary\r\n",
        "df.describe().T"
      ],
      "execution_count": 99,
      "outputs": [
        {
          "output_type": "execute_result",
          "data": {
            "text/html": [
              "<div>\n",
              "<style scoped>\n",
              "    .dataframe tbody tr th:only-of-type {\n",
              "        vertical-align: middle;\n",
              "    }\n",
              "\n",
              "    .dataframe tbody tr th {\n",
              "        vertical-align: top;\n",
              "    }\n",
              "\n",
              "    .dataframe thead th {\n",
              "        text-align: right;\n",
              "    }\n",
              "</style>\n",
              "<table border=\"1\" class=\"dataframe\">\n",
              "  <thead>\n",
              "    <tr style=\"text-align: right;\">\n",
              "      <th></th>\n",
              "      <th>count</th>\n",
              "      <th>mean</th>\n",
              "      <th>std</th>\n",
              "      <th>min</th>\n",
              "      <th>25%</th>\n",
              "      <th>50%</th>\n",
              "      <th>75%</th>\n",
              "      <th>max</th>\n",
              "    </tr>\n",
              "  </thead>\n",
              "  <tbody>\n",
              "    <tr>\n",
              "      <th>Hours</th>\n",
              "      <td>25.0</td>\n",
              "      <td>5.012</td>\n",
              "      <td>2.525094</td>\n",
              "      <td>1.1</td>\n",
              "      <td>2.7</td>\n",
              "      <td>4.8</td>\n",
              "      <td>7.4</td>\n",
              "      <td>9.2</td>\n",
              "    </tr>\n",
              "    <tr>\n",
              "      <th>Scores</th>\n",
              "      <td>25.0</td>\n",
              "      <td>51.480</td>\n",
              "      <td>25.286887</td>\n",
              "      <td>17.0</td>\n",
              "      <td>30.0</td>\n",
              "      <td>47.0</td>\n",
              "      <td>75.0</td>\n",
              "      <td>95.0</td>\n",
              "    </tr>\n",
              "  </tbody>\n",
              "</table>\n",
              "</div>"
            ],
            "text/plain": [
              "        count    mean        std   min   25%   50%   75%   max\n",
              "Hours    25.0   5.012   2.525094   1.1   2.7   4.8   7.4   9.2\n",
              "Scores   25.0  51.480  25.286887  17.0  30.0  47.0  75.0  95.0"
            ]
          },
          "metadata": {
            "tags": []
          },
          "execution_count": 99
        }
      ]
    },
    {
      "cell_type": "code",
      "metadata": {
        "colab": {
          "base_uri": "https://localhost:8080/",
          "height": 107
        },
        "id": "kkA3Luo-VLvE",
        "outputId": "519d6d8a-4610-48aa-b43e-4dc089b8c4c5"
      },
      "source": [
        "## Spearman's Correlation table\r\n",
        "df.corr()"
      ],
      "execution_count": 100,
      "outputs": [
        {
          "output_type": "execute_result",
          "data": {
            "text/html": [
              "<div>\n",
              "<style scoped>\n",
              "    .dataframe tbody tr th:only-of-type {\n",
              "        vertical-align: middle;\n",
              "    }\n",
              "\n",
              "    .dataframe tbody tr th {\n",
              "        vertical-align: top;\n",
              "    }\n",
              "\n",
              "    .dataframe thead th {\n",
              "        text-align: right;\n",
              "    }\n",
              "</style>\n",
              "<table border=\"1\" class=\"dataframe\">\n",
              "  <thead>\n",
              "    <tr style=\"text-align: right;\">\n",
              "      <th></th>\n",
              "      <th>Hours</th>\n",
              "      <th>Scores</th>\n",
              "    </tr>\n",
              "  </thead>\n",
              "  <tbody>\n",
              "    <tr>\n",
              "      <th>Hours</th>\n",
              "      <td>1.000000</td>\n",
              "      <td>0.976191</td>\n",
              "    </tr>\n",
              "    <tr>\n",
              "      <th>Scores</th>\n",
              "      <td>0.976191</td>\n",
              "      <td>1.000000</td>\n",
              "    </tr>\n",
              "  </tbody>\n",
              "</table>\n",
              "</div>"
            ],
            "text/plain": [
              "           Hours    Scores\n",
              "Hours   1.000000  0.976191\n",
              "Scores  0.976191  1.000000"
            ]
          },
          "metadata": {
            "tags": []
          },
          "execution_count": 100
        }
      ]
    },
    {
      "cell_type": "markdown",
      "metadata": {
        "id": "Ji0_CEoLVnej"
      },
      "source": [
        "### 6. Visual inference from data"
      ]
    },
    {
      "cell_type": "code",
      "metadata": {
        "colab": {
          "base_uri": "https://localhost:8080/",
          "height": 493
        },
        "id": "54uHMWAMVZCc",
        "outputId": "2f1cdca7-c1c9-493f-d38c-84dbef9be9b2"
      },
      "source": [
        "## check of linearity in data\r\n",
        "plt.figure(figsize=(16,7))\r\n",
        "plt.title(\"Algebric relationship between hours of study(Hours) and test marks(Scores)\\n\",fontsize=20,fontweight='bold')\r\n",
        "plt.scatter(df['Hours'],df['Scores'],color='indigo',marker='^')\r\n",
        "plt.xlabel('Number of Hours of study',fontsize=15,fontstyle='italic',fontweight='bold',color='red')\r\n",
        "plt.xticks(fontsize=12)\r\n",
        "plt.ylabel('Test scores',fontsize=15,fontstyle='italic',fontweight='bold',color='green')\r\n",
        "plt.yticks(fontsize=12)\r\n",
        "plt.show()"
      ],
      "execution_count": 101,
      "outputs": [
        {
          "output_type": "display_data",
          "data": {
            "image/png": "[encoded data removed]",
            "text/plain": [
              "<Figure size 1152x504 with 1 Axes>"
            ]
          },
          "metadata": {
            "tags": [],
            "needs_background": "light"
          }
        }
      ]
    },
    {
      "cell_type": "code",
      "metadata": {
        "colab": {
          "base_uri": "https://localhost:8080/",
          "height": 543
        },
        "id": "IAPdqX7FVwuF",
        "outputId": "e7cee8b1-4ecd-46e3-adba-31bfef9c2633"
      },
      "source": [
        "## check of distribution in data\r\n",
        "plt.figure(figsize=(16,8))\r\n",
        "\r\n",
        "plt.subplot(1,2,1)\r\n",
        "ax = sns.histplot(df['Hours'],bins=10,color='b')\r\n",
        "ax.set_title('Distribution of Hours\\n',fontsize=18)\r\n",
        "ax.set_xlabel('Scores',fontsize=15)\r\n",
        "ax.set_ylabel('Count of Hours',fontsize=15)\r\n",
        "\r\n",
        "plt.subplot(1,2,2)\r\n",
        "bx = sns.histplot(df['Scores'],bins=10,color='g')\r\n",
        "bx.set_title('Distribution of Scores\\n',fontsize=18)\r\n",
        "bx.set_xlabel('Scores',fontsize=15)\r\n",
        "bx.set_ylabel('Count of Scores',fontsize=15)\r\n",
        "plt.show()"
      ],
      "execution_count": 102,
      "outputs": [
        {
          "output_type": "display_data",
          "data": {
            "image/png": "[encoded data removed]",
            "text/plain": [
              "<Figure size 1152x576 with 2 Axes>"
            ]
          },
          "metadata": {
            "tags": [],
            "needs_background": "light"
          }
        }
      ]
    },
    {
      "cell_type": "markdown",
      "metadata": {
        "id": "4IS71Am0d5iU"
      },
      "source": [
        "<center> \r\n",
        "\r\n",
        "## **Modelling and Application** </center>\r\n",
        "<hr>\r\n"
      ]
    },
    {
      "cell_type": "markdown",
      "metadata": {
        "id": "zZ0PQIvneQZa"
      },
      "source": [
        "### 7. Preparing dataset for modelling"
      ]
    },
    {
      "cell_type": "code",
      "metadata": {
        "colab": {
          "base_uri": "https://localhost:8080/"
        },
        "id": "TeaVJE0yY2He",
        "outputId": "a7f32a3e-ce4e-4ed1-f77a-85dc086e00c8"
      },
      "source": [
        "x = df[['Hours']]\r\n",
        "y = df[['Scores']]\r\n",
        "print('Variables are assigned')"
      ],
      "execution_count": 103,
      "outputs": [
        {
          "output_type": "stream",
          "text": [
            "Variables are assigned\n"
          ],
          "name": "stdout"
        }
      ]
    },
    {
      "cell_type": "code",
      "metadata": {
        "colab": {
          "base_uri": "https://localhost:8080/"
        },
        "id": "AByrt9FmeqRr",
        "outputId": "5edb1396-c315-41b3-886a-51cb69e8a726"
      },
      "source": [
        "## splitting the data\r\n",
        "x_train,x_test,y_train,y_test = train_test_split(x,y,test_size=0.3, random_state=1)\r\n",
        "print('Data is split in the set ratio')"
      ],
      "execution_count": 104,
      "outputs": [
        {
          "output_type": "stream",
          "text": [
            "Data is split in the set ratio\n"
          ],
          "name": "stdout"
        }
      ]
    },
    {
      "cell_type": "markdown",
      "metadata": {
        "id": "ygcO2Anrfgtj"
      },
      "source": [
        "### 8. Building the linear regression model"
      ]
    },
    {
      "cell_type": "code",
      "metadata": {
        "colab": {
          "base_uri": "https://localhost:8080/"
        },
        "id": "qcHRd17RfS4Z",
        "outputId": "c5cf101f-36e5-40fb-85dc-241613a11b39"
      },
      "source": [
        "## training the model on values\r\n",
        "lr = LinearRegression()\r\n",
        "lr.fit(x_train,y_train)\r\n",
        "print('Model has been trained successfully!')"
      ],
      "execution_count": 105,
      "outputs": [
        {
          "output_type": "stream",
          "text": [
            "Model has been trained successfully!\n"
          ],
          "name": "stdout"
        }
      ]
    },
    {
      "cell_type": "code",
      "metadata": {
        "colab": {
          "base_uri": "https://localhost:8080/"
        },
        "id": "F9VAN0FCibmr",
        "outputId": "1987e40a-e676-4ea4-d1e0-832ffefdaa4a"
      },
      "source": [
        "## prediction results\r\n",
        "actual_scores = y_test\r\n",
        "predict_scores = lr.predict(x_test)\r\n",
        "predict_scores"
      ],
      "execution_count": 116,
      "outputs": [
        {
          "output_type": "execute_result",
          "data": {
            "text/plain": [
              "array([[ 9.93952968],\n",
              "       [32.84320126],\n",
              "       [18.26813752],\n",
              "       [86.97915227],\n",
              "       [48.45934097],\n",
              "       [78.65054442],\n",
              "       [61.99332873],\n",
              "       [75.52731648]])"
            ]
          },
          "metadata": {
            "tags": []
          },
          "execution_count": 116
        }
      ]
    },
    {
      "cell_type": "markdown",
      "metadata": {
        "id": "DGZraP6QgQWG"
      },
      "source": [
        "### 9. Model Evaluation"
      ]
    },
    {
      "cell_type": "code",
      "metadata": {
        "colab": {
          "base_uri": "https://localhost:8080/"
        },
        "id": "6X6zg2b3gGP1",
        "outputId": "cc1f9fdf-af62-4ffb-c8bc-af776919d6ba"
      },
      "source": [
        "## Mathematical verification :\r\n",
        "\r\n",
        "print(\"coefficient = \",lr.coef_)\r\n",
        "print(\"intercept   = \",lr.intercept_)\r\n",
        "print(\"value of x  = \",8.5)\r\n",
        "print(\"Result (y)  = \",(lr.coef_*8.5 + lr.intercept_))"
      ],
      "execution_count": 107,
      "outputs": [
        {
          "output_type": "stream",
          "text": [
            "coefficient =  [[10.41075981]]\n",
            "intercept   =  [-1.51230612]\n",
            "value of x  =  8.5\n",
            "Result (y)  =  [[86.97915227]]\n"
          ],
          "name": "stdout"
        }
      ]
    },
    {
      "cell_type": "code",
      "metadata": {
        "colab": {
          "base_uri": "https://localhost:8080/"
        },
        "id": "3Wcw2sp9hVjl",
        "outputId": "9114644d-f342-42a3-d352-b8d5789930c5"
      },
      "source": [
        "## Model prediction result :\r\n",
        "lr.predict([[8.5]])"
      ],
      "execution_count": 108,
      "outputs": [
        {
          "output_type": "execute_result",
          "data": {
            "text/plain": [
              "array([[86.97915227]])"
            ]
          },
          "metadata": {
            "tags": []
          },
          "execution_count": 108
        }
      ]
    },
    {
      "cell_type": "code",
      "metadata": {
        "colab": {
          "base_uri": "https://localhost:8080/"
        },
        "id": "daG8dFv0hkor",
        "outputId": "150a3ab3-1177-410f-91d1-803e5c2a64a5"
      },
      "source": [
        "## Manual check of accuracy\r\n",
        "''' To check the accuracy, we will substract predicted value from mathematically verified value and find the result in %'''\r\n",
        "y = lr.coef_*8 + lr.intercept_\r\n",
        "yp = lr.predict([[8]])\r\n",
        "r = int(100.00 - (y - yp))\r\n",
        "print(\"Predicted result accuracy percentage : \",r,\"%\")"
      ],
      "execution_count": 109,
      "outputs": [
        {
          "output_type": "stream",
          "text": [
            "Predicted result accuracy percentage :  100 %\n"
          ],
          "name": "stdout"
        }
      ]
    },
    {
      "cell_type": "markdown",
      "metadata": {
        "id": "r5Y8Nr--jffR"
      },
      "source": [
        "### 10. Model result visualization"
      ]
    },
    {
      "cell_type": "code",
      "metadata": {
        "colab": {
          "base_uri": "https://localhost:8080/",
          "height": 503
        },
        "id": "Tv5ddkNnjoXQ",
        "outputId": "35714ad1-d5d8-43da-842b-40ce560a0fd9"
      },
      "source": [
        "plt.figure(figsize=(15,7))\r\n",
        "plt.scatter(x_train,y_train,color='red')\r\n",
        "plt.plot(x_train,lr.predict(x_train),color='blue')\r\n",
        "plt.xlabel('Hours of study',size=18,color='indigo')\r\n",
        "plt.ylabel('Test Scores',size=18,color='indigo')\r\n",
        "plt.title('Test Scores vs Hours of study regression graph (Training set)\\n',size=24,color='orange',fontweight='bold')\r\n",
        "plt.show()"
      ],
      "execution_count": 110,
      "outputs": [
        {
          "output_type": "display_data",
          "data": {
            "image/png": "[encoded data removed]",
            "text/plain": [
              "<Figure size 1080x504 with 1 Axes>"
            ]
          },
          "metadata": {
            "tags": [],
            "needs_background": "light"
          }
        }
      ]
    },
    {
      "cell_type": "code",
      "metadata": {
        "colab": {
          "base_uri": "https://localhost:8080/",
          "height": 503
        },
        "id": "nN0-CRuWj46q",
        "outputId": "91225d8b-ffdf-40be-b248-10e5d9b8b07b"
      },
      "source": [
        "plt.figure(figsize=(15,7))\r\n",
        "plt.scatter(x_test,y_test,color='green')\r\n",
        "plt.plot(x_train,lr.predict(x_train),color='black')\r\n",
        "plt.xlabel('Hours of study',size=18,color='indigo')\r\n",
        "plt.ylabel('Test Scores',size=18,color='indigo')\r\n",
        "plt.title('Test Scores vs Hours of study regression graph (Test set)\\n',size=24,color='green',fontweight='bold')\r\n",
        "plt.show()"
      ],
      "execution_count": 111,
      "outputs": [
        {
          "output_type": "display_data",
          "data": {
            "image/png": "[encoded data removed]",
            "text/plain": [
              "<Figure size 1080x504 with 1 Axes>"
            ]
          },
          "metadata": {
            "tags": [],
            "needs_background": "light"
          }
        }
      ]
    },
    {
      "cell_type": "markdown",
      "metadata": {
        "id": "fHnat3uJjCcD"
      },
      "source": [
        "### 11. Model Performance\r\n",
        "checking performance for values that are not in the dataset"
      ]
    },
    {
      "cell_type": "code",
      "metadata": {
        "colab": {
          "base_uri": "https://localhost:8080/"
        },
        "id": "U72JbcsQm5wO",
        "outputId": "a229d797-49b4-4e81-e96b-4cd5b0608a0d"
      },
      "source": [
        "## random hours for testing model performance\r\n",
        "x = [9.5,7.8,3.6,8.9,7.0]\r\n",
        "\r\n",
        "for i in range(len(x)):\r\n",
        "  pred = lr.predict([[x[i]]])\r\n",
        "  print('Predicted Test Score on',x[i],'hours of study = ',str(pred)[2:-8],'%')"
      ],
      "execution_count": 132,
      "outputs": [
        {
          "output_type": "stream",
          "text": [
            "Predicted Test Score on 9.5 hours of study =  97.38 %\n",
            "Predicted Test Score on 7.8 hours of study =  79.6 %\n",
            "Predicted Test Score on 3.6 hours of study =  35.9 %\n",
            "Predicted Test Score on 8.9 hours of study =  91.1 %\n",
            "Predicted Test Score on 7.0 hours of study =  71.36 %\n"
          ],
          "name": "stdout"
        }
      ]
    },
    {
      "cell_type": "markdown",
      "metadata": {
        "id": "ZXJDJKPnpDGd"
      },
      "source": [
        "## Some useful insight discovered during working with linear regression:\r\n",
        "\r\n",
        "<hr>\r\n",
        "\r\n",
        "Advantages :\r\n",
        "\r\n",
        "i.Automatically chooses the best fit graph for any dataset with a single x and y.\r\n",
        "\r\n",
        "ii.Works very fast, compared to other regression models, due to its simplicity.\r\n",
        "\r\n",
        "iii.useful for 2 variable datasets (x and y only) of any size\r\n",
        "\r\n",
        "<hr>\r\n",
        "\r\n",
        "Disadvantages :\r\n",
        "\r\n",
        "i.Not good for multivariate datasets and large (datasets with more than 1 independent parameters) or more than 1 million data elements.\r\n",
        "\r\n",
        "ii.Cannot recognize mathemetical patterns like a sine series or quadratic trends\r\n",
        "\r\n",
        "iii.Could not produce a good result if the data is largely scattered.\r\n",
        "\r\n",
        "<hr>"
      ]
    },
    {
      "cell_type": "markdown",
      "metadata": {
        "id": "nN65TxRvpWRN"
      },
      "source": [
        "<center>\r\n",
        "\r\n",
        "# **THANK YOU!** 😊\r\n",
        "\r\n",
        "</center>"
      ]
    },
    {
      "cell_type": "code",
      "metadata": {
        "id": "sVkpCKGhnz_e"
      },
      "source": [
        ""
      ],
      "execution_count": null,
      "outputs": []
    }
  ]
}